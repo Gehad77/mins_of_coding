{
 "cells": [
  {
   "cell_type": "code",
   "execution_count": 1,
   "metadata": {},
   "outputs": [],
   "source": [
    "import pandas as pd\n",
    "import numpy as np \n",
    "import xlrd "
   ]
  },
  {
   "cell_type": "code",
   "execution_count": 2,
   "metadata": {},
   "outputs": [
    {
     "name": "stdout",
     "output_type": "stream",
     "text": [
      "*** No CODEPAGE record, no encoding_override: will use 'ascii'\n",
      "Features Shape  (63,) Features Type <class 'pandas.core.series.Series'>\n",
      "labels Shape  (63,) labels Type <class 'pandas.core.series.Series'>\n"
     ]
    }
   ],
   "source": [
    "data=pd.read_excel('Insurance.xls')\n",
    "X=data.iloc[:,0]      # Assign your Feature to X \n",
    "y=data.iloc[:,1]      # Assign your Label to Y \n",
    "print('Features Shape ', X.shape , 'Features Type',type(X))   # Do you remember The Method  \n",
    "print('labels Shape ', y.shape , 'labels Type', type(y))      # .shape and the Built in Function type()"
   ]
  },
  {
   "cell_type": "code",
   "execution_count": 3,
   "metadata": {},
   "outputs": [],
   "source": [
    "def TrainTestSplitter(X,y, split_ratio):\n",
    "    Key=int((1-split_ratio)*len(X))\n",
    "    print(Key)\n",
    "    X_train=X[0:Key]     # Training Features \n",
    "    X_test=X[Key: ]      # Testing Features \n",
    "    y_train=y[:Key]  # Training Labels\n",
    "    y_test=y[Key: ]  # Testing Labels\n",
    "    return X_train, X_test , y_train ,y_test "
   ]
  },
  {
   "cell_type": "code",
   "execution_count": 4,
   "metadata": {},
   "outputs": [
    {
     "name": "stdout",
     "output_type": "stream",
     "text": [
      "50\n",
      "0     108\n",
      "1      19\n",
      "2      13\n",
      "3     124\n",
      "4      40\n",
      "5      57\n",
      "6      23\n",
      "7      14\n",
      "8      45\n",
      "9      10\n",
      "10      5\n",
      "11     48\n",
      "12     11\n",
      "13     23\n",
      "14      7\n",
      "15      2\n",
      "16     24\n",
      "17      6\n",
      "18      3\n",
      "19     23\n",
      "20      6\n",
      "21      9\n",
      "22      9\n",
      "23      3\n",
      "24     29\n",
      "25      7\n",
      "26      4\n",
      "27     20\n",
      "28      7\n",
      "29      4\n",
      "30      0\n",
      "31     25\n",
      "32      6\n",
      "33      5\n",
      "34     22\n",
      "35     11\n",
      "36     61\n",
      "37     12\n",
      "38      4\n",
      "39     16\n",
      "40     13\n",
      "41     60\n",
      "42     41\n",
      "43     37\n",
      "44     55\n",
      "45     41\n",
      "46     11\n",
      "47     27\n",
      "48      8\n",
      "49      3\n",
      "Name: X, dtype: int64\n"
     ]
    }
   ],
   "source": [
    "#split_ratio from Zero to One \n",
    "X_train, X_test , y_train ,y_test =TrainTestSplitter(X,y, 0.2)\n",
    "print(X_train)"
   ]
  },
  {
   "cell_type": "code",
   "execution_count": 5,
   "metadata": {},
   "outputs": [
    {
     "name": "stdout",
     "output_type": "stream",
     "text": [
      "Training Features Shape  (63,) Training Features Type <class 'pandas.core.series.Series'>\n",
      "Training labels Shape  (63,) Training labels Type <class 'pandas.core.series.Series'>\n",
      "Testing Features Shape  (63,) Testing Features Type <class 'pandas.core.series.Series'>\n",
      "Testing labels Shape  (63,) Testing labels Type <class 'pandas.core.series.Series'>\n"
     ]
    }
   ],
   "source": [
    "print('Training Features Shape ',X.shape , 'Training Features Type',type(X))     \n",
    "print('Training labels Shape ', y.shape , 'Training labels Type', type(y)) \n",
    "print('Testing Features Shape ', X.shape, 'Testing Features Type',type(X))     \n",
    "print('Testing labels Shape ', y.shape , 'Testing labels Type',type(y))           "
   ]
  },
  {
   "cell_type": "code",
   "execution_count": null,
   "metadata": {},
   "outputs": [],
   "source": []
  }
 ],
 "metadata": {
  "kernelspec": {
   "display_name": "Python 3",
   "language": "python",
   "name": "python3"
  },
  "language_info": {
   "codemirror_mode": {
    "name": "ipython",
    "version": 3
   },
   "file_extension": ".py",
   "mimetype": "text/x-python",
   "name": "python",
   "nbconvert_exporter": "python",
   "pygments_lexer": "ipython3",
   "version": "3.8.3"
  }
 },
 "nbformat": 4,
 "nbformat_minor": 4
}
